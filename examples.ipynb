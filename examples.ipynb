{
 "cells": [
  {
   "cell_type": "markdown",
   "id": "junior-thesaurus",
   "metadata": {},
   "source": [
    "# QBAF-Py: Examples\n",
    "This noteboook provides some examples for how to use QBAF-Py.\n",
    "\n",
    "## Instantiating QBAFs\n",
    "Let us first instantiate a QBAF."
   ]
  },
  {
   "cell_type": "code",
   "execution_count": 1,
   "id": "english-sending",
   "metadata": {},
   "outputs": [],
   "source": [
    "from qbaf import QBAFramework, QBAFARelations\n",
    "\n",
    "args = ['a', 'b', 'c', 'd', 'e', 'f']\n",
    "initial_strengths = [0.5, 0.2, 0.85, 0.65, 0.4, 1]\n",
    "atts = [('c', 'a'), ('e', 'b'), ('f', 'c')]\n",
    "supps = [('b', 'a'), ('d', 'a'), ('e', 'c')]\n",
    "qbaf_0 = QBAFramework(args, initial_strengths, atts, supps, semantics=\"QuadraticEnergy_model\")\n"
   ]
  },
  {
   "cell_type": "markdown",
   "id": "applicable-mustang",
   "metadata": {},
   "source": [
    "The semantics that will later be applied is tied to the QBAF instantiation.\n",
    "Here, we specify the quadratic energy semantics.\n",
    "Note that QBAF-Py is for argumentation-based reasoning and not for visualization, so we have to take care of the visualization ourself."
   ]
  },
  {
   "cell_type": "code",
   "execution_count": 2,
   "id": "modern-crown",
   "metadata": {},
   "outputs": [],
   "source": [
    "%%capture\n",
    "# To visualize the QBAFs, the networkx and pygraphviz libraries are required.\n",
    "# We install them below, but depending on your setup, you may need to install them differently\n",
    "!pip install networkx\n",
    "!pip install pygraphviz"
   ]
  },
  {
   "cell_type": "code",
   "execution_count": 3,
   "id": "trained-association",
   "metadata": {
    "scrolled": true
   },
   "outputs": [
    {
     "data": {
      "image/png": "[encoded data removed]",
      "text/plain": [
       "<Figure size 432x288 with 1 Axes>"
      ]
     },
     "metadata": {},
     "output_type": "display_data"
    }
   ],
   "source": [
    "import networkx as nx\n",
    "from networkx.drawing.nx_agraph import graphviz_layout\n",
    "\n",
    "\n",
    "def visualize(qbaf: QBAFramework, with_fs=False, round_to=2):\n",
    "    \"\"\"\n",
    "    Takes a QBAF and renders it as a graph\n",
    "    \n",
    "    Args:\n",
    "            qbaf (QBAFramework): The QBAF that is supposed to be rendered\n",
    "            with_fs (Bool): Set to `True` if final strenghts should be rendered as well.\n",
    "                            Defaults to `False`.\n",
    "            round_to (int): Number of decimals the strengths should be rounded to before rendering.\n",
    "                            Defaults to `2`.\n",
    "            \n",
    "    \"\"\"\n",
    "    args = qbaf.arguments\n",
    "    initial_strengths = qbaf_0.initial_weights\n",
    "    for key, value in initial_strengths.items():\n",
    "        initial_strengths[key] = round(value, round_to)\n",
    "    if with_fs:\n",
    "        final_strengths = qbaf.final_weights\n",
    "        for key, value in final_strengths.items():\n",
    "            final_strengths[key] = round(value, round_to)\n",
    "    graph = nx.DiGraph()\n",
    "    nodes = {}\n",
    "    for arg in args:\n",
    "        if with_fs:\n",
    "            label = f'{arg} ({initial_strengths[arg]}): {final_strengths[arg]}'\n",
    "        else:\n",
    "            label = f'{arg} ({initial_strengths[arg]})'\n",
    "        graph.add_node(label)\n",
    "        nodes[arg] = label   \n",
    "    labels = {}\n",
    "    for att in qbaf.attack_relations.relations:\n",
    "        labels[(nodes[att[0]], nodes[att[1]])] = '-'\n",
    "        graph.add_edge(nodes[att[0]], nodes[att[1]])\n",
    "    for supp in qbaf.support_relations.relations:\n",
    "        labels[(nodes[supp[0]], nodes[supp[1]])] = '+'\n",
    "        graph.add_edge(nodes[supp[0]], nodes[supp[1]])\n",
    "    pos = graphviz_layout(graph, prog='dot')\n",
    "    nx.draw(graph, pos, with_labels=True, node_size=2000, font_size=10, node_color='#FFF',bbox=dict(facecolor='black', alpha=0.1))\n",
    "    nx.draw_networkx_edge_labels(\n",
    "    graph, pos,\n",
    "    edge_labels=labels,\n",
    "    font_size=25,\n",
    "    rotate=False\n",
    "    )\n",
    "\n",
    "visualize(qbaf_0)\n"
   ]
  },
  {
   "cell_type": "markdown",
   "id": "peripheral-honey",
   "metadata": {},
   "source": [
    "## Drawing Inferences\n",
    "As we have instantiated our QBAF with a specific semantics, the inferences (final strengths) are readily available:"
   ]
  },
  {
   "cell_type": "code",
   "execution_count": 4,
   "id": "enabling-triumph",
   "metadata": {},
   "outputs": [
    {
     "name": "stdout",
     "output_type": "stream",
     "text": [
      "{'e': 0.4, 'b': 0.1724137931034483, 'd': 0.65, 'f': 1.0, 'c': 0.625, 'a': 0.5187551724162596}\n"
     ]
    }
   ],
   "source": [
    "final_strengths = qbaf_0.final_weights\n",
    "print(final_strengths)"
   ]
  },
  {
   "cell_type": "markdown",
   "id": "emerging-consensus",
   "metadata": {},
   "source": [
    "We update the visualizations to also show the final strengths of the arguments.\n",
    "For this, we call our visualization function, with the parameter `with_fs` set to `True`."
   ]
  },
  {
   "cell_type": "code",
   "execution_count": 5,
   "id": "corrected-scratch",
   "metadata": {},
   "outputs": [
    {
     "data": {
      "image/png": "[encoded data removed]",
      "text/plain": [
       "<Figure size 432x288 with 1 Axes>"
      ]
     },
     "metadata": {},
     "output_type": "display_data"
    }
   ],
   "source": [
    "visualize(qbaf_0, with_fs=True, round_to=3)"
   ]
  },
  {
   "cell_type": "markdown",
   "id": "southwest-fitting",
   "metadata": {},
   "source": [
    "## Generating Explanations\n",
    "Given two argumentation frameworks and two arguments therein (so-called *topic arguments*), we can explain changes in the relative strength of these arguments (see: Kampik and Čyras. [Explaining Change in Quantitative Bipolar Argumentation](https://www.diva-portal.org/smash/get/diva2:1690830/FULLTEXT02)."
   ]
  },
  {
   "cell_type": "code",
   "execution_count": 6,
   "id": "statistical-harris",
   "metadata": {},
   "outputs": [],
   "source": [
    "# TODO"
   ]
  }
 ],
 "metadata": {
  "kernelspec": {
   "display_name": "Python 3 (ipykernel)",
   "language": "python",
   "name": "python3"
  },
  "language_info": {
   "codemirror_mode": {
    "name": "ipython",
    "version": 3
   },
   "file_extension": ".py",
   "mimetype": "text/x-python",
   "name": "python",
   "nbconvert_exporter": "python",
   "pygments_lexer": "ipython3",
   "version": "3.9.0"
  }
 },
 "nbformat": 4,
 "nbformat_minor": 5
}
